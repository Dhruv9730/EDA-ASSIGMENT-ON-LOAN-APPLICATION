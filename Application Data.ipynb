{
 "cells": [
  {
   "cell_type": "markdown",
   "id": "5ffdff8c",
   "metadata": {},
   "source": [
    "# IMPORTING LIBRARIES"
   ]
  },
  {
   "cell_type": "code",
   "execution_count": 1,
   "id": "89b684df",
   "metadata": {},
   "outputs": [],
   "source": [
    "import warnings\n",
    "warnings.filterwarnings(\"ignore\")\n",
    "#so that warnings don't pop up"
   ]
  },
  {
   "cell_type": "code",
   "execution_count": 2,
   "id": "a7a14969",
   "metadata": {},
   "outputs": [],
   "source": [
    "import pandas as pd\n",
    "import numpy as np\n",
    "import matplotlib.pyplot as plt\n",
    "import seaborn as sns\n",
    "%matplotlib inline\n",
    "#required libraries for performing activity on dataset"
   ]
  },
  {
   "cell_type": "markdown",
   "id": "4105dd0d",
   "metadata": {},
   "source": [
    "# UNDERSTANDING DATASET"
   ]
  },
  {
   "cell_type": "code",
   "execution_count": 3,
   "id": "970e3b7c",
   "metadata": {},
   "outputs": [],
   "source": [
    "previousapp_df = pd.read_csv(r\"C:\\Users\\dhruv\\Downloads\\previous_application.csv\")\n",
    "application_df = pd.read_csv(r\"C:\\Users\\dhruv\\Downloads\\application_data.csv\")"
   ]
  },
  {
   "cell_type": "code",
   "execution_count": 4,
   "id": "4c6a1517",
   "metadata": {},
   "outputs": [
    {
     "name": "stdout",
     "output_type": "stream",
     "text": [
      "<class 'pandas.core.frame.DataFrame'>\n",
      "RangeIndex: 307511 entries, 0 to 307510\n",
      "Columns: 122 entries, SK_ID_CURR to AMT_REQ_CREDIT_BUREAU_YEAR\n",
      "dtypes: float64(65), int64(41), object(16)\n",
      "memory usage: 286.2+ MB\n"
     ]
    }
   ],
   "source": [
    "application_df.info()"
   ]
  },
  {
   "cell_type": "code",
   "execution_count": 5,
   "id": "3c4acdce",
   "metadata": {},
   "outputs": [
    {
     "name": "stdout",
     "output_type": "stream",
     "text": [
      "(307511, 122)\n"
     ]
    }
   ],
   "source": [
    "print(application_df.shape)"
   ]
  },
  {
   "cell_type": "markdown",
   "id": "e8683705",
   "metadata": {},
   "source": [
    "# DATA FILTERING"
   ]
  },
  {
   "cell_type": "code",
   "execution_count": 6,
   "id": "4deff695",
   "metadata": {},
   "outputs": [
    {
     "data": {
      "text/html": [
       "<div>\n",
       "<style scoped>\n",
       "    .dataframe tbody tr th:only-of-type {\n",
       "        vertical-align: middle;\n",
       "    }\n",
       "\n",
       "    .dataframe tbody tr th {\n",
       "        vertical-align: top;\n",
       "    }\n",
       "\n",
       "    .dataframe thead th {\n",
       "        text-align: right;\n",
       "    }\n",
       "</style>\n",
       "<table border=\"1\" class=\"dataframe\">\n",
       "  <thead>\n",
       "    <tr style=\"text-align: right;\">\n",
       "      <th></th>\n",
       "      <th>SK_ID_CURR</th>\n",
       "      <th>TARGET</th>\n",
       "      <th>NAME_CONTRACT_TYPE</th>\n",
       "      <th>CODE_GENDER</th>\n",
       "      <th>FLAG_OWN_CAR</th>\n",
       "      <th>FLAG_OWN_REALTY</th>\n",
       "      <th>CNT_CHILDREN</th>\n",
       "      <th>AMT_INCOME_TOTAL</th>\n",
       "      <th>AMT_CREDIT</th>\n",
       "      <th>AMT_ANNUITY</th>\n",
       "      <th>...</th>\n",
       "      <th>FLAG_DOCUMENT_18</th>\n",
       "      <th>FLAG_DOCUMENT_19</th>\n",
       "      <th>FLAG_DOCUMENT_20</th>\n",
       "      <th>FLAG_DOCUMENT_21</th>\n",
       "      <th>AMT_REQ_CREDIT_BUREAU_HOUR</th>\n",
       "      <th>AMT_REQ_CREDIT_BUREAU_DAY</th>\n",
       "      <th>AMT_REQ_CREDIT_BUREAU_WEEK</th>\n",
       "      <th>AMT_REQ_CREDIT_BUREAU_MON</th>\n",
       "      <th>AMT_REQ_CREDIT_BUREAU_QRT</th>\n",
       "      <th>AMT_REQ_CREDIT_BUREAU_YEAR</th>\n",
       "    </tr>\n",
       "  </thead>\n",
       "  <tbody>\n",
       "    <tr>\n",
       "      <th>0</th>\n",
       "      <td>False</td>\n",
       "      <td>False</td>\n",
       "      <td>False</td>\n",
       "      <td>False</td>\n",
       "      <td>False</td>\n",
       "      <td>False</td>\n",
       "      <td>False</td>\n",
       "      <td>False</td>\n",
       "      <td>False</td>\n",
       "      <td>False</td>\n",
       "      <td>...</td>\n",
       "      <td>False</td>\n",
       "      <td>False</td>\n",
       "      <td>False</td>\n",
       "      <td>False</td>\n",
       "      <td>False</td>\n",
       "      <td>False</td>\n",
       "      <td>False</td>\n",
       "      <td>False</td>\n",
       "      <td>False</td>\n",
       "      <td>False</td>\n",
       "    </tr>\n",
       "    <tr>\n",
       "      <th>1</th>\n",
       "      <td>False</td>\n",
       "      <td>False</td>\n",
       "      <td>False</td>\n",
       "      <td>False</td>\n",
       "      <td>False</td>\n",
       "      <td>False</td>\n",
       "      <td>False</td>\n",
       "      <td>False</td>\n",
       "      <td>False</td>\n",
       "      <td>False</td>\n",
       "      <td>...</td>\n",
       "      <td>False</td>\n",
       "      <td>False</td>\n",
       "      <td>False</td>\n",
       "      <td>False</td>\n",
       "      <td>False</td>\n",
       "      <td>False</td>\n",
       "      <td>False</td>\n",
       "      <td>False</td>\n",
       "      <td>False</td>\n",
       "      <td>False</td>\n",
       "    </tr>\n",
       "    <tr>\n",
       "      <th>2</th>\n",
       "      <td>False</td>\n",
       "      <td>False</td>\n",
       "      <td>False</td>\n",
       "      <td>False</td>\n",
       "      <td>False</td>\n",
       "      <td>False</td>\n",
       "      <td>False</td>\n",
       "      <td>False</td>\n",
       "      <td>False</td>\n",
       "      <td>False</td>\n",
       "      <td>...</td>\n",
       "      <td>False</td>\n",
       "      <td>False</td>\n",
       "      <td>False</td>\n",
       "      <td>False</td>\n",
       "      <td>False</td>\n",
       "      <td>False</td>\n",
       "      <td>False</td>\n",
       "      <td>False</td>\n",
       "      <td>False</td>\n",
       "      <td>False</td>\n",
       "    </tr>\n",
       "    <tr>\n",
       "      <th>3</th>\n",
       "      <td>False</td>\n",
       "      <td>False</td>\n",
       "      <td>False</td>\n",
       "      <td>False</td>\n",
       "      <td>False</td>\n",
       "      <td>False</td>\n",
       "      <td>False</td>\n",
       "      <td>False</td>\n",
       "      <td>False</td>\n",
       "      <td>False</td>\n",
       "      <td>...</td>\n",
       "      <td>False</td>\n",
       "      <td>False</td>\n",
       "      <td>False</td>\n",
       "      <td>False</td>\n",
       "      <td>True</td>\n",
       "      <td>True</td>\n",
       "      <td>True</td>\n",
       "      <td>True</td>\n",
       "      <td>True</td>\n",
       "      <td>True</td>\n",
       "    </tr>\n",
       "    <tr>\n",
       "      <th>4</th>\n",
       "      <td>False</td>\n",
       "      <td>False</td>\n",
       "      <td>False</td>\n",
       "      <td>False</td>\n",
       "      <td>False</td>\n",
       "      <td>False</td>\n",
       "      <td>False</td>\n",
       "      <td>False</td>\n",
       "      <td>False</td>\n",
       "      <td>False</td>\n",
       "      <td>...</td>\n",
       "      <td>False</td>\n",
       "      <td>False</td>\n",
       "      <td>False</td>\n",
       "      <td>False</td>\n",
       "      <td>False</td>\n",
       "      <td>False</td>\n",
       "      <td>False</td>\n",
       "      <td>False</td>\n",
       "      <td>False</td>\n",
       "      <td>False</td>\n",
       "    </tr>\n",
       "  </tbody>\n",
       "</table>\n",
       "<p>5 rows × 122 columns</p>\n",
       "</div>"
      ],
      "text/plain": [
       "   SK_ID_CURR  TARGET  NAME_CONTRACT_TYPE  CODE_GENDER  FLAG_OWN_CAR  \\\n",
       "0       False   False               False        False         False   \n",
       "1       False   False               False        False         False   \n",
       "2       False   False               False        False         False   \n",
       "3       False   False               False        False         False   \n",
       "4       False   False               False        False         False   \n",
       "\n",
       "   FLAG_OWN_REALTY  CNT_CHILDREN  AMT_INCOME_TOTAL  AMT_CREDIT  AMT_ANNUITY  \\\n",
       "0            False         False             False       False        False   \n",
       "1            False         False             False       False        False   \n",
       "2            False         False             False       False        False   \n",
       "3            False         False             False       False        False   \n",
       "4            False         False             False       False        False   \n",
       "\n",
       "   ...  FLAG_DOCUMENT_18  FLAG_DOCUMENT_19  FLAG_DOCUMENT_20  \\\n",
       "0  ...             False             False             False   \n",
       "1  ...             False             False             False   \n",
       "2  ...             False             False             False   \n",
       "3  ...             False             False             False   \n",
       "4  ...             False             False             False   \n",
       "\n",
       "   FLAG_DOCUMENT_21  AMT_REQ_CREDIT_BUREAU_HOUR  AMT_REQ_CREDIT_BUREAU_DAY  \\\n",
       "0             False                       False                      False   \n",
       "1             False                       False                      False   \n",
       "2             False                       False                      False   \n",
       "3             False                        True                       True   \n",
       "4             False                       False                      False   \n",
       "\n",
       "   AMT_REQ_CREDIT_BUREAU_WEEK  AMT_REQ_CREDIT_BUREAU_MON  \\\n",
       "0                       False                      False   \n",
       "1                       False                      False   \n",
       "2                       False                      False   \n",
       "3                        True                       True   \n",
       "4                       False                      False   \n",
       "\n",
       "   AMT_REQ_CREDIT_BUREAU_QRT  AMT_REQ_CREDIT_BUREAU_YEAR  \n",
       "0                      False                       False  \n",
       "1                      False                       False  \n",
       "2                      False                       False  \n",
       "3                       True                        True  \n",
       "4                      False                       False  \n",
       "\n",
       "[5 rows x 122 columns]"
      ]
     },
     "execution_count": 6,
     "metadata": {},
     "output_type": "execute_result"
    }
   ],
   "source": [
    "##Finding columns with missing values\n",
    "\n",
    "application_df.count()\n",
    "app_miss = application_df.isna()\n",
    "app_miss.head()"
   ]
  },
  {
   "cell_type": "code",
   "execution_count": 8,
   "id": "348cc02c",
   "metadata": {},
   "outputs": [
    {
     "data": {
      "text/plain": [
       "COMMONAREA_MEDI             69.872297\n",
       "COMMONAREA_AVG              69.872297\n",
       "COMMONAREA_MODE             69.872297\n",
       "NONLIVINGAPARTMENTS_MODE    69.432963\n",
       "NONLIVINGAPARTMENTS_AVG     69.432963\n",
       "                              ...    \n",
       "NAME_HOUSING_TYPE            0.000000\n",
       "NAME_FAMILY_STATUS           0.000000\n",
       "NAME_EDUCATION_TYPE          0.000000\n",
       "NAME_INCOME_TYPE             0.000000\n",
       "SK_ID_CURR                   0.000000\n",
       "Length: 122, dtype: float64"
      ]
     },
     "execution_count": 8,
     "metadata": {},
     "output_type": "execute_result"
    }
   ],
   "source": [
    "#missing value percentage\n",
    "miss_app = app_miss.sum()\n",
    "miss_app\n",
    "missing_df = miss_app/len(application_df)*100\n",
    "missing_df.sort_values(ascending=False)"
   ]
  },
  {
   "cell_type": "markdown",
   "id": "c7e01ef0",
   "metadata": {},
   "source": [
    "CHECKING DATA IMBALANCE"
   ]
  },
  {
   "cell_type": "code",
   "execution_count": 9,
   "id": "d53d0659",
   "metadata": {},
   "outputs": [
    {
     "data": {
      "image/png": "[encoded data removed]",
      "text/plain": [
       "<Figure size 432x288 with 1 Axes>"
      ]
     },
     "metadata": {
      "needs_background": "light"
     },
     "output_type": "display_data"
    }
   ],
   "source": [
    "plt.title(\"Current Application Payment Status\")\n",
    "sns.countplot(application_df['TARGET'])\n",
    "plt.show()"
   ]
  },
  {
   "cell_type": "markdown",
   "id": "55a1b162",
   "metadata": {},
   "source": [
    "Data Imbalance Proportion"
   ]
  },
  {
   "cell_type": "code",
   "execution_count": 12,
   "id": "c382a7f6",
   "metadata": {},
   "outputs": [
    {
     "name": "stdout",
     "output_type": "stream",
     "text": [
      "24825\n",
      "282686\n",
      "Percentage: 8.072881945686495\n"
     ]
    }
   ],
   "source": [
    "non_defaulter  = application_df[application_df[\"TARGET\"] == 0]\n",
    "defaulter  = application_df[application_df[\"TARGET\"] == 1]\n",
    "\n",
    "print(defaulter.shape[0])\n",
    "print(non_defaulter.shape[0])\n",
    "##let's find percentage of defaulters as well\n",
    "print(\"Percentage:\", defaulter.shape[0]*100/(defaulter.shape[0]+non_defaulter.shape[0]))\n",
    "## since only 8% defaulters can be found in application datframe, it means data is highly imbalance"
   ]
  },
  {
   "cell_type": "markdown",
   "id": "92d19cbd",
   "metadata": {},
   "source": [
    "HOW ABOUT WE START WITH CHECKING HOUSING STATUS OF APPLICANTS"
   ]
  },
  {
   "cell_type": "code",
   "execution_count": 13,
   "id": "dfcd20a5",
   "metadata": {},
   "outputs": [
    {
     "data": {
      "image/png": "[encoded data removed]",
      "text/plain": [
       "<Figure size 432x288 with 1 Axes>"
      ]
     },
     "metadata": {
      "needs_background": "light"
     },
     "output_type": "display_data"
    }
   ],
   "source": [
    "plt.figure()\n",
    "sns.countplot(application_df[\"NAME_HOUSING_TYPE\"], hue=application_df[\"TARGET\"])\n",
    "plt.xticks(rotation=90)\n",
    "plt.tight_layout()\n",
    "plt.title(\"Housing Type vs. Target\")\n",
    "plt.show()"
   ]
  },
  {
   "cell_type": "code",
   "execution_count": 14,
   "id": "9df4e680",
   "metadata": {},
   "outputs": [],
   "source": [
    "###this will help us finding percent of defaulter with respect to every value type\n",
    "def valuewisedefaulter_percentage(df, col):\n",
    "    new_df = pd.DataFrame(columns=['Value', 'Percentage of Defaulter'])\n",
    "    \n",
    "    for value in df[col].unique():\n",
    "        defaulter_cnt = df[(df[col] == value) & (df.TARGET == 1)].shape[0]\n",
    "        total_cnt = df[df[col] == value].shape[0]\n",
    "        new_df = new_df.append({'Value' : value , 'Percentage of Defaulter' : (defaulter_cnt*100/total_cnt)}, ignore_index=True)\n",
    "    return new_df.sort_values(by='Percentage of Defaulter', ascending=False)"
   ]
  },
  {
   "cell_type": "code",
   "execution_count": 15,
   "id": "9460b8eb",
   "metadata": {},
   "outputs": [
    {
     "data": {
      "text/html": [
       "<div>\n",
       "<style scoped>\n",
       "    .dataframe tbody tr th:only-of-type {\n",
       "        vertical-align: middle;\n",
       "    }\n",
       "\n",
       "    .dataframe tbody tr th {\n",
       "        vertical-align: top;\n",
       "    }\n",
       "\n",
       "    .dataframe thead th {\n",
       "        text-align: right;\n",
       "    }\n",
       "</style>\n",
       "<table border=\"1\" class=\"dataframe\">\n",
       "  <thead>\n",
       "    <tr style=\"text-align: right;\">\n",
       "      <th></th>\n",
       "      <th>Value</th>\n",
       "      <th>Percentage of Defaulter</th>\n",
       "    </tr>\n",
       "  </thead>\n",
       "  <tbody>\n",
       "    <tr>\n",
       "      <th>1</th>\n",
       "      <td>Rented apartment</td>\n",
       "      <td>12.313051</td>\n",
       "    </tr>\n",
       "    <tr>\n",
       "      <th>2</th>\n",
       "      <td>With parents</td>\n",
       "      <td>11.698113</td>\n",
       "    </tr>\n",
       "    <tr>\n",
       "      <th>3</th>\n",
       "      <td>Municipal apartment</td>\n",
       "      <td>8.539748</td>\n",
       "    </tr>\n",
       "    <tr>\n",
       "      <th>5</th>\n",
       "      <td>Co-op apartment</td>\n",
       "      <td>7.932264</td>\n",
       "    </tr>\n",
       "    <tr>\n",
       "      <th>0</th>\n",
       "      <td>House / apartment</td>\n",
       "      <td>7.795711</td>\n",
       "    </tr>\n",
       "    <tr>\n",
       "      <th>4</th>\n",
       "      <td>Office apartment</td>\n",
       "      <td>6.572411</td>\n",
       "    </tr>\n",
       "  </tbody>\n",
       "</table>\n",
       "</div>"
      ],
      "text/plain": [
       "                 Value Percentage of Defaulter\n",
       "1     Rented apartment               12.313051\n",
       "2         With parents               11.698113\n",
       "3  Municipal apartment                8.539748\n",
       "5      Co-op apartment                7.932264\n",
       "0    House / apartment                7.795711\n",
       "4     Office apartment                6.572411"
      ]
     },
     "execution_count": 15,
     "metadata": {},
     "output_type": "execute_result"
    }
   ],
   "source": [
    "##so now if want to calculate the percentage housing type wise we can do it\n",
    "valuewisedefaulter_percentage(application_df, 'NAME_HOUSING_TYPE')"
   ]
  },
  {
   "cell_type": "code",
   "execution_count": 16,
   "id": "b4fe3157",
   "metadata": {},
   "outputs": [],
   "source": [
    "##most number of defaulters are living in rented apartment or with their parents"
   ]
  },
  {
   "cell_type": "markdown",
   "id": "02e64beb",
   "metadata": {},
   "source": [
    "Let's check client's working and permanent address region and city wise"
   ]
  },
  {
   "cell_type": "code",
   "execution_count": 18,
   "id": "d6bef45b",
   "metadata": {},
   "outputs": [
    {
     "data": {
      "image/png": "[encoded data removed]",
      "text/plain": [
       "<Figure size 432x288 with 2 Axes>"
      ]
     },
     "metadata": {
      "needs_background": "light"
     },
     "output_type": "display_data"
    }
   ],
   "source": [
    "starting_idx = application_df.columns.get_loc('REG_REGION_NOT_LIVE_REGION')\n",
    "ending_idx = application_df.columns.get_loc('LIVE_CITY_NOT_WORK_CITY')\n",
    "reg_df = application_df.iloc[:, starting_idx:ending_idx+1]\n",
    "reg_df['REGION_RATING_CLIENT'] = application_df['REGION_RATING_CLIENT']\n",
    "reg_df['REGION_RATING_CLIENT_W_CITY'] = application_df['REGION_RATING_CLIENT_W_CITY']\n",
    "reg_df[\"TARGET\"] = application_df[\"TARGET\"]\n",
    "sns.heatmap(reg_df)\n",
    "plt.show()"
   ]
  },
  {
   "cell_type": "code",
   "execution_count": 19,
   "id": "137c8cb1",
   "metadata": {},
   "outputs": [],
   "source": [
    "##REG_REGION_NOT_WORK_REGION, LIVE_REGION_NOT_WORK_REGION columns are identical, hence one of them can be removed\n",
    "##REG_CITY_NOT_WORK_CITY, LIVE_CITY_NOT_WORK_CITY columns are identical, hence one of them can be removed"
   ]
  },
  {
   "cell_type": "code",
   "execution_count": 20,
   "id": "30607fe4",
   "metadata": {},
   "outputs": [
    {
     "data": {
      "image/png": "[encoded data removed]",
      "text/plain": [
       "<Figure size 720x720 with 5 Axes>"
      ]
     },
     "metadata": {
      "needs_background": "light"
     },
     "output_type": "display_data"
    }
   ],
   "source": [
    "fig=plt.subplots(figsize=(10, 10))\n",
    "\n",
    "for i, j in enumerate(['REG_REGION_NOT_WORK_REGION','REG_CITY_NOT_LIVE_CITY', 'REG_CITY_NOT_WORK_CITY','REGION_RATING_CLIENT', 'REGION_RATING_CLIENT_W_CITY']):\n",
    "    plt.subplot(5, 3, i+1, ylim=(0, 250000))\n",
    "    plt.subplots_adjust(hspace = 1.0)\n",
    "    sns.countplot(application_df[j], hue=application_df[\"TARGET\"])\n",
    "    plt.xticks(rotation=90)\n",
    "    plt.tight_layout()"
   ]
  },
  {
   "cell_type": "code",
   "execution_count": 21,
   "id": "f54e877b",
   "metadata": {},
   "outputs": [],
   "source": [
    "##Defaulter rate is highest when REG_REGION_NOT_WORK_REGION=0 i.e. permanent address and working address is same\n",
    "##Highest Applicants have Region rating of 2"
   ]
  },
  {
   "cell_type": "markdown",
   "id": "87f396ad",
   "metadata": {},
   "source": [
    "Lets check there assests"
   ]
  },
  {
   "cell_type": "code",
   "execution_count": 27,
   "id": "18eb8328",
   "metadata": {},
   "outputs": [
    {
     "name": "stdout",
     "output_type": "stream",
     "text": [
      "<class 'pandas.core.frame.DataFrame'>\n",
      "RangeIndex: 307511 entries, 0 to 307510\n",
      "Data columns (total 4 columns):\n",
      " #   Column           Non-Null Count   Dtype  \n",
      "---  ------           --------------   -----  \n",
      " 0   FLAG_OWN_CAR     307511 non-null  object \n",
      " 1   FLAG_OWN_REALTY  307511 non-null  object \n",
      " 2   OWN_CAR_AGE      104582 non-null  float64\n",
      " 3   TARGET           307511 non-null  int64  \n",
      "dtypes: float64(1), int64(1), object(2)\n",
      "memory usage: 9.4+ MB\n"
     ]
    }
   ],
   "source": [
    "application_df[['FLAG_OWN_CAR', 'FLAG_OWN_REALTY', 'OWN_CAR_AGE', 'TARGET']].info()"
   ]
  },
  {
   "cell_type": "code",
   "execution_count": null,
   "id": "4a8f42ff",
   "metadata": {},
   "outputs": [],
   "source": []
  },
  {
   "cell_type": "code",
   "execution_count": 23,
   "id": "0b728e07",
   "metadata": {},
   "outputs": [
    {
     "data": {
      "text/html": [
       "<div>\n",
       "<style scoped>\n",
       "    .dataframe tbody tr th:only-of-type {\n",
       "        vertical-align: middle;\n",
       "    }\n",
       "\n",
       "    .dataframe tbody tr th {\n",
       "        vertical-align: top;\n",
       "    }\n",
       "\n",
       "    .dataframe thead th {\n",
       "        text-align: right;\n",
       "    }\n",
       "</style>\n",
       "<table border=\"1\" class=\"dataframe\">\n",
       "  <thead>\n",
       "    <tr style=\"text-align: right;\">\n",
       "      <th></th>\n",
       "      <th>Value</th>\n",
       "      <th>Percentage of Defaulter</th>\n",
       "    </tr>\n",
       "  </thead>\n",
       "  <tbody>\n",
       "    <tr>\n",
       "      <th>0</th>\n",
       "      <td>N</td>\n",
       "      <td>8.500227</td>\n",
       "    </tr>\n",
       "    <tr>\n",
       "      <th>1</th>\n",
       "      <td>Y</td>\n",
       "      <td>7.24373</td>\n",
       "    </tr>\n",
       "  </tbody>\n",
       "</table>\n",
       "</div>"
      ],
      "text/plain": [
       "  Value Percentage of Defaulter\n",
       "0     N                8.500227\n",
       "1     Y                 7.24373"
      ]
     },
     "execution_count": 23,
     "metadata": {},
     "output_type": "execute_result"
    }
   ],
   "source": [
    "valuewisedefaulter_percentage(application_df, 'FLAG_OWN_CAR')\n",
    "##those who don't own a car is slighlty much defaulter than those who own"
   ]
  },
  {
   "cell_type": "code",
   "execution_count": 30,
   "id": "7996f72d",
   "metadata": {},
   "outputs": [
    {
     "data": {
      "text/html": [
       "<div>\n",
       "<style scoped>\n",
       "    .dataframe tbody tr th:only-of-type {\n",
       "        vertical-align: middle;\n",
       "    }\n",
       "\n",
       "    .dataframe tbody tr th {\n",
       "        vertical-align: top;\n",
       "    }\n",
       "\n",
       "    .dataframe thead th {\n",
       "        text-align: right;\n",
       "    }\n",
       "</style>\n",
       "<table border=\"1\" class=\"dataframe\">\n",
       "  <thead>\n",
       "    <tr style=\"text-align: right;\">\n",
       "      <th></th>\n",
       "      <th>Value</th>\n",
       "      <th>Percentage of Defaulter</th>\n",
       "    </tr>\n",
       "  </thead>\n",
       "  <tbody>\n",
       "    <tr>\n",
       "      <th>1</th>\n",
       "      <td>N</td>\n",
       "      <td>8.324929</td>\n",
       "    </tr>\n",
       "    <tr>\n",
       "      <th>0</th>\n",
       "      <td>Y</td>\n",
       "      <td>7.961577</td>\n",
       "    </tr>\n",
       "  </tbody>\n",
       "</table>\n",
       "</div>"
      ],
      "text/plain": [
       "  Value Percentage of Defaulter\n",
       "1     N                8.324929\n",
       "0     Y                7.961577"
      ]
     },
     "execution_count": 30,
     "metadata": {},
     "output_type": "execute_result"
    }
   ],
   "source": [
    "valuewisedefaulter_percentage(application_df, 'FLAG_OWN_REALTY')\n",
    "##those who don't own realty is slighlty much defaulter than those who own"
   ]
  },
  {
   "cell_type": "code",
   "execution_count": 33,
   "id": "674dcc11",
   "metadata": {},
   "outputs": [
    {
     "data": {
      "image/png": "[encoded data removed]",
      "text/plain": [
       "<Figure size 432x288 with 2 Axes>"
      ]
     },
     "metadata": {
      "needs_background": "light"
     },
     "output_type": "display_data"
    }
   ],
   "source": [
    "fig = plt.figure()\n",
    "\n",
    "ax1 = fig.add_subplot(1, 2, 1, ylim=(0,60000), title=\"Non-defaulter\")\n",
    "ax2 = fig.add_subplot(1, 2, 2, ylim=(0,60000), title=\"Defaulter\")\n",
    "\n",
    "non_defaulter['OWN_CAR_AGE'].hist(bins=10, ax=ax1)\n",
    "defaulter['OWN_CAR_AGE'].hist(bins=10, ax=ax2)\n",
    "\n",
    "plt.tight_layout()\n",
    "\n",
    "plt.show()"
   ]
  },
  {
   "cell_type": "code",
   "execution_count": 34,
   "id": "f6654c2e",
   "metadata": {},
   "outputs": [],
   "source": [
    "##both have similar range of value Age= 0-25 so they can be dropped"
   ]
  },
  {
   "cell_type": "markdown",
   "id": "b87bfb14",
   "metadata": {},
   "source": [
    "Family Information"
   ]
  },
  {
   "cell_type": "code",
   "execution_count": 35,
   "id": "991178bd",
   "metadata": {},
   "outputs": [
    {
     "name": "stdout",
     "output_type": "stream",
     "text": [
      "<class 'pandas.core.frame.DataFrame'>\n",
      "RangeIndex: 307511 entries, 0 to 307510\n",
      "Data columns (total 3 columns):\n",
      " #   Column              Non-Null Count   Dtype  \n",
      "---  ------              --------------   -----  \n",
      " 0   CNT_CHILDREN        307511 non-null  int64  \n",
      " 1   CNT_FAM_MEMBERS     307509 non-null  float64\n",
      " 2   NAME_FAMILY_STATUS  307511 non-null  object \n",
      "dtypes: float64(1), int64(1), object(1)\n",
      "memory usage: 7.0+ MB\n"
     ]
    }
   ],
   "source": [
    "application_df[['CNT_CHILDREN', 'CNT_FAM_MEMBERS', 'NAME_FAMILY_STATUS']].info()"
   ]
  },
  {
   "cell_type": "code",
   "execution_count": 36,
   "id": "d308059d",
   "metadata": {},
   "outputs": [
    {
     "name": "stdout",
     "output_type": "stream",
     "text": [
      "<class 'pandas.core.frame.DataFrame'>\n",
      "Int64Index: 307509 entries, 0 to 307510\n",
      "Data columns (total 3 columns):\n",
      " #   Column              Non-Null Count   Dtype  \n",
      "---  ------              --------------   -----  \n",
      " 0   CNT_CHILDREN        307509 non-null  int64  \n",
      " 1   CNT_FAM_MEMBERS     307509 non-null  float64\n",
      " 2   NAME_FAMILY_STATUS  307509 non-null  object \n",
      "dtypes: float64(1), int64(1), object(1)\n",
      "memory usage: 9.4+ MB\n"
     ]
    }
   ],
   "source": [
    "# dropping the rows(2) with null value in CNT_FAM_MEMBERS\n",
    "application_df = application_df.dropna(subset=['CNT_FAM_MEMBERS']) \n",
    "application_df[['CNT_CHILDREN', 'CNT_FAM_MEMBERS', 'NAME_FAMILY_STATUS']].info()"
   ]
  },
  {
   "cell_type": "code",
   "execution_count": 37,
   "id": "0d209c34",
   "metadata": {},
   "outputs": [
    {
     "name": "stdout",
     "output_type": "stream",
     "text": [
      "<class 'pandas.core.frame.DataFrame'>\n",
      "Int64Index: 307509 entries, 0 to 307510\n",
      "Data columns (total 1 columns):\n",
      " #   Column           Non-Null Count   Dtype\n",
      "---  ------           --------------   -----\n",
      " 0   CNT_FAM_MEMBERS  307509 non-null  int32\n",
      "dtypes: int32(1)\n",
      "memory usage: 3.5 MB\n"
     ]
    }
   ],
   "source": [
    "# Since number of family member cannot have float dtype converting to Integer\n",
    "application_df['CNT_FAM_MEMBERS'] = application_df['CNT_FAM_MEMBERS'].astype(int)\n",
    "application_df[['CNT_FAM_MEMBERS']].info()"
   ]
  },
  {
   "cell_type": "code",
   "execution_count": 38,
   "id": "1761b82e",
   "metadata": {},
   "outputs": [
    {
     "data": {
      "image/png": "[encoded data removed]",
      "text/plain": [
       "<Figure size 720x720 with 3 Axes>"
      ]
     },
     "metadata": {
      "needs_background": "light"
     },
     "output_type": "display_data"
    }
   ],
   "source": [
    "fig=plt.subplots(figsize=(10, 10))\n",
    "\n",
    "for i, j in enumerate(['CNT_CHILDREN','CNT_FAM_MEMBERS', 'NAME_FAMILY_STATUS']):\n",
    "    plt.subplot(3, 3, i+1, ylim=(0, 200000))\n",
    "    plt.subplots_adjust(hspace = 1.0)\n",
    "    sns.countplot(application_df[j], hue=application_df[\"TARGET\"])\n",
    "    plt.xticks(rotation=90)\n",
    "    plt.tight_layout()"
   ]
  },
  {
   "cell_type": "code",
   "execution_count": 39,
   "id": "3ebd0776",
   "metadata": {},
   "outputs": [
    {
     "data": {
      "text/plain": [
       "0     215369\n",
       "1      61119\n",
       "2      26749\n",
       "3       3717\n",
       "4        429\n",
       "5         84\n",
       "6         21\n",
       "7          7\n",
       "14         3\n",
       "8          2\n",
       "9          2\n",
       "12         2\n",
       "10         2\n",
       "19         2\n",
       "11         1\n",
       "Name: CNT_CHILDREN, dtype: int64"
      ]
     },
     "execution_count": 39,
     "metadata": {},
     "output_type": "execute_result"
    }
   ],
   "source": [
    "application_df.CNT_CHILDREN.value_counts()"
   ]
  },
  {
   "cell_type": "code",
   "execution_count": 40,
   "id": "cec348f0",
   "metadata": {},
   "outputs": [
    {
     "data": {
      "text/html": [
       "<div>\n",
       "<style scoped>\n",
       "    .dataframe tbody tr th:only-of-type {\n",
       "        vertical-align: middle;\n",
       "    }\n",
       "\n",
       "    .dataframe tbody tr th {\n",
       "        vertical-align: top;\n",
       "    }\n",
       "\n",
       "    .dataframe thead th {\n",
       "        text-align: right;\n",
       "    }\n",
       "</style>\n",
       "<table border=\"1\" class=\"dataframe\">\n",
       "  <thead>\n",
       "    <tr style=\"text-align: right;\">\n",
       "      <th></th>\n",
       "      <th>Value</th>\n",
       "      <th>Percentage of Defaulter</th>\n",
       "    </tr>\n",
       "  </thead>\n",
       "  <tbody>\n",
       "    <tr>\n",
       "      <th>16</th>\n",
       "      <td>11.0</td>\n",
       "      <td>100.0</td>\n",
       "    </tr>\n",
       "    <tr>\n",
       "      <th>10</th>\n",
       "      <td>13.0</td>\n",
       "      <td>100.0</td>\n",
       "    </tr>\n",
       "    <tr>\n",
       "      <th>9</th>\n",
       "      <td>10.0</td>\n",
       "      <td>33.333333</td>\n",
       "    </tr>\n",
       "    <tr>\n",
       "      <th>8</th>\n",
       "      <td>8.0</td>\n",
       "      <td>30.0</td>\n",
       "    </tr>\n",
       "    <tr>\n",
       "      <th>5</th>\n",
       "      <td>6.0</td>\n",
       "      <td>13.480392</td>\n",
       "    </tr>\n",
       "    <tr>\n",
       "      <th>4</th>\n",
       "      <td>5.0</td>\n",
       "      <td>9.401955</td>\n",
       "    </tr>\n",
       "    <tr>\n",
       "      <th>2</th>\n",
       "      <td>3.0</td>\n",
       "      <td>8.76029</td>\n",
       "    </tr>\n",
       "    <tr>\n",
       "      <th>3</th>\n",
       "      <td>4.0</td>\n",
       "      <td>8.648824</td>\n",
       "    </tr>\n",
       "    <tr>\n",
       "      <th>0</th>\n",
       "      <td>1.0</td>\n",
       "      <td>8.364408</td>\n",
       "    </tr>\n",
       "    <tr>\n",
       "      <th>1</th>\n",
       "      <td>2.0</td>\n",
       "      <td>7.583498</td>\n",
       "    </tr>\n",
       "    <tr>\n",
       "      <th>7</th>\n",
       "      <td>7.0</td>\n",
       "      <td>7.407407</td>\n",
       "    </tr>\n",
       "    <tr>\n",
       "      <th>6</th>\n",
       "      <td>9.0</td>\n",
       "      <td>0.0</td>\n",
       "    </tr>\n",
       "    <tr>\n",
       "      <th>11</th>\n",
       "      <td>14.0</td>\n",
       "      <td>0.0</td>\n",
       "    </tr>\n",
       "    <tr>\n",
       "      <th>12</th>\n",
       "      <td>12.0</td>\n",
       "      <td>0.0</td>\n",
       "    </tr>\n",
       "    <tr>\n",
       "      <th>13</th>\n",
       "      <td>20.0</td>\n",
       "      <td>0.0</td>\n",
       "    </tr>\n",
       "    <tr>\n",
       "      <th>14</th>\n",
       "      <td>15.0</td>\n",
       "      <td>0.0</td>\n",
       "    </tr>\n",
       "    <tr>\n",
       "      <th>15</th>\n",
       "      <td>16.0</td>\n",
       "      <td>0.0</td>\n",
       "    </tr>\n",
       "  </tbody>\n",
       "</table>\n",
       "</div>"
      ],
      "text/plain": [
       "   Value Percentage of Defaulter\n",
       "16  11.0                   100.0\n",
       "10  13.0                   100.0\n",
       "9   10.0               33.333333\n",
       "8    8.0                    30.0\n",
       "5    6.0               13.480392\n",
       "4    5.0                9.401955\n",
       "2    3.0                 8.76029\n",
       "3    4.0                8.648824\n",
       "0    1.0                8.364408\n",
       "1    2.0                7.583498\n",
       "7    7.0                7.407407\n",
       "6    9.0                     0.0\n",
       "11  14.0                     0.0\n",
       "12  12.0                     0.0\n",
       "13  20.0                     0.0\n",
       "14  15.0                     0.0\n",
       "15  16.0                     0.0"
      ]
     },
     "execution_count": 40,
     "metadata": {},
     "output_type": "execute_result"
    }
   ],
   "source": [
    "valuewisedefaulter_percentage(application_df, 'CNT_FAM_MEMBERS')"
   ]
  },
  {
   "cell_type": "code",
   "execution_count": 41,
   "id": "6905d074",
   "metadata": {},
   "outputs": [
    {
     "data": {
      "text/html": [
       "<div>\n",
       "<style scoped>\n",
       "    .dataframe tbody tr th:only-of-type {\n",
       "        vertical-align: middle;\n",
       "    }\n",
       "\n",
       "    .dataframe tbody tr th {\n",
       "        vertical-align: top;\n",
       "    }\n",
       "\n",
       "    .dataframe thead th {\n",
       "        text-align: right;\n",
       "    }\n",
       "</style>\n",
       "<table border=\"1\" class=\"dataframe\">\n",
       "  <thead>\n",
       "    <tr style=\"text-align: right;\">\n",
       "      <th></th>\n",
       "      <th>Value</th>\n",
       "      <th>Percentage of Defaulter</th>\n",
       "    </tr>\n",
       "  </thead>\n",
       "  <tbody>\n",
       "    <tr>\n",
       "      <th>2</th>\n",
       "      <td>Civil marriage</td>\n",
       "      <td>9.944584</td>\n",
       "    </tr>\n",
       "    <tr>\n",
       "      <th>0</th>\n",
       "      <td>Single / not married</td>\n",
       "      <td>9.807675</td>\n",
       "    </tr>\n",
       "    <tr>\n",
       "      <th>4</th>\n",
       "      <td>Separated</td>\n",
       "      <td>8.194234</td>\n",
       "    </tr>\n",
       "    <tr>\n",
       "      <th>1</th>\n",
       "      <td>Married</td>\n",
       "      <td>7.559868</td>\n",
       "    </tr>\n",
       "    <tr>\n",
       "      <th>3</th>\n",
       "      <td>Widow</td>\n",
       "      <td>5.824217</td>\n",
       "    </tr>\n",
       "  </tbody>\n",
       "</table>\n",
       "</div>"
      ],
      "text/plain": [
       "                  Value Percentage of Defaulter\n",
       "2        Civil marriage                9.944584\n",
       "0  Single / not married                9.807675\n",
       "4             Separated                8.194234\n",
       "1               Married                7.559868\n",
       "3                 Widow                5.824217"
      ]
     },
     "execution_count": 41,
     "metadata": {},
     "output_type": "execute_result"
    }
   ],
   "source": [
    "valuewisedefaulter_percentage(application_df, 'NAME_FAMILY_STATUS')"
   ]
  },
  {
   "cell_type": "code",
   "execution_count": 42,
   "id": "4d642a9d",
   "metadata": {},
   "outputs": [],
   "source": [
    "##Default rate is highest for Civil Marriage and Single applicants\n",
    "##Most of the applicants are married or have no children or have 2 family members.\n",
    "##Applicants with relatively more number of children or family members have higher default percentage."
   ]
  },
  {
   "cell_type": "markdown",
   "id": "39d223df",
   "metadata": {},
   "source": [
    "# Education type"
   ]
  },
  {
   "cell_type": "code",
   "execution_count": 43,
   "id": "31430c41",
   "metadata": {},
   "outputs": [
    {
     "data": {
      "text/html": [
       "<div>\n",
       "<style scoped>\n",
       "    .dataframe tbody tr th:only-of-type {\n",
       "        vertical-align: middle;\n",
       "    }\n",
       "\n",
       "    .dataframe tbody tr th {\n",
       "        vertical-align: top;\n",
       "    }\n",
       "\n",
       "    .dataframe thead th {\n",
       "        text-align: right;\n",
       "    }\n",
       "</style>\n",
       "<table border=\"1\" class=\"dataframe\">\n",
       "  <thead>\n",
       "    <tr style=\"text-align: right;\">\n",
       "      <th></th>\n",
       "      <th>Value</th>\n",
       "      <th>Percentage of Defaulter</th>\n",
       "    </tr>\n",
       "  </thead>\n",
       "  <tbody>\n",
       "    <tr>\n",
       "      <th>3</th>\n",
       "      <td>Lower secondary</td>\n",
       "      <td>10.930537</td>\n",
       "    </tr>\n",
       "    <tr>\n",
       "      <th>0</th>\n",
       "      <td>Secondary / secondary special</td>\n",
       "      <td>8.939929</td>\n",
       "    </tr>\n",
       "    <tr>\n",
       "      <th>2</th>\n",
       "      <td>Incomplete higher</td>\n",
       "      <td>8.484966</td>\n",
       "    </tr>\n",
       "    <tr>\n",
       "      <th>1</th>\n",
       "      <td>Higher education</td>\n",
       "      <td>5.355187</td>\n",
       "    </tr>\n",
       "    <tr>\n",
       "      <th>4</th>\n",
       "      <td>Academic degree</td>\n",
       "      <td>1.829268</td>\n",
       "    </tr>\n",
       "  </tbody>\n",
       "</table>\n",
       "</div>"
      ],
      "text/plain": [
       "                           Value Percentage of Defaulter\n",
       "3                Lower secondary               10.930537\n",
       "0  Secondary / secondary special                8.939929\n",
       "2              Incomplete higher                8.484966\n",
       "1               Higher education                5.355187\n",
       "4                Academic degree                1.829268"
      ]
     },
     "execution_count": 43,
     "metadata": {},
     "output_type": "execute_result"
    }
   ],
   "source": [
    "valuewisedefaulter_percentage(application_df,'NAME_EDUCATION_TYPE')"
   ]
  },
  {
   "cell_type": "code",
   "execution_count": 44,
   "id": "e84996ae",
   "metadata": {},
   "outputs": [],
   "source": [
    "##people having lower secondary education are more likely to be defaulter"
   ]
  },
  {
   "cell_type": "markdown",
   "id": "a7c2b99d",
   "metadata": {},
   "source": [
    "OCCUPATION"
   ]
  },
  {
   "cell_type": "code",
   "execution_count": 45,
   "id": "b037938d",
   "metadata": {},
   "outputs": [
    {
     "data": {
      "image/png": "[encoded data removed]",
      "text/plain": [
       "<Figure size 432x288 with 1 Axes>"
      ]
     },
     "metadata": {
      "needs_background": "light"
     },
     "output_type": "display_data"
    }
   ],
   "source": [
    "plt.figure()\n",
    "sns.countplot(application_df['NAME_INCOME_TYPE'], hue=application_df[\"TARGET\"])\n",
    "plt.xticks(rotation=90)\n",
    "plt.title(\"Earning type vs. Target\")\n",
    "plt.show()"
   ]
  },
  {
   "cell_type": "code",
   "execution_count": 46,
   "id": "7d27753d",
   "metadata": {},
   "outputs": [
    {
     "data": {
      "text/html": [
       "<div>\n",
       "<style scoped>\n",
       "    .dataframe tbody tr th:only-of-type {\n",
       "        vertical-align: middle;\n",
       "    }\n",
       "\n",
       "    .dataframe tbody tr th {\n",
       "        vertical-align: top;\n",
       "    }\n",
       "\n",
       "    .dataframe thead th {\n",
       "        text-align: right;\n",
       "    }\n",
       "</style>\n",
       "<table border=\"1\" class=\"dataframe\">\n",
       "  <thead>\n",
       "    <tr style=\"text-align: right;\">\n",
       "      <th></th>\n",
       "      <th>Value</th>\n",
       "      <th>Percentage of Defaulter</th>\n",
       "    </tr>\n",
       "  </thead>\n",
       "  <tbody>\n",
       "    <tr>\n",
       "      <th>7</th>\n",
       "      <td>Maternity leave</td>\n",
       "      <td>40.0</td>\n",
       "    </tr>\n",
       "    <tr>\n",
       "      <th>4</th>\n",
       "      <td>Unemployed</td>\n",
       "      <td>36.363636</td>\n",
       "    </tr>\n",
       "    <tr>\n",
       "      <th>0</th>\n",
       "      <td>Working</td>\n",
       "      <td>9.588472</td>\n",
       "    </tr>\n",
       "    <tr>\n",
       "      <th>2</th>\n",
       "      <td>Commercial associate</td>\n",
       "      <td>7.484466</td>\n",
       "    </tr>\n",
       "    <tr>\n",
       "      <th>1</th>\n",
       "      <td>State servant</td>\n",
       "      <td>5.754965</td>\n",
       "    </tr>\n",
       "    <tr>\n",
       "      <th>3</th>\n",
       "      <td>Pensioner</td>\n",
       "      <td>5.386366</td>\n",
       "    </tr>\n",
       "    <tr>\n",
       "      <th>5</th>\n",
       "      <td>Student</td>\n",
       "      <td>0.0</td>\n",
       "    </tr>\n",
       "    <tr>\n",
       "      <th>6</th>\n",
       "      <td>Businessman</td>\n",
       "      <td>0.0</td>\n",
       "    </tr>\n",
       "  </tbody>\n",
       "</table>\n",
       "</div>"
      ],
      "text/plain": [
       "                  Value Percentage of Defaulter\n",
       "7       Maternity leave                    40.0\n",
       "4            Unemployed               36.363636\n",
       "0               Working                9.588472\n",
       "2  Commercial associate                7.484466\n",
       "1         State servant                5.754965\n",
       "3             Pensioner                5.386366\n",
       "5               Student                     0.0\n",
       "6           Businessman                     0.0"
      ]
     },
     "execution_count": 46,
     "metadata": {},
     "output_type": "execute_result"
    }
   ],
   "source": [
    "valuewisedefaulter_percentage(application_df,'NAME_INCOME_TYPE')"
   ]
  },
  {
   "cell_type": "code",
   "execution_count": 47,
   "id": "c2f0f0a0",
   "metadata": {},
   "outputs": [
    {
     "data": {
      "text/plain": [
       "Working                 158774\n",
       "Commercial associate     71615\n",
       "Pensioner                55362\n",
       "State servant            21703\n",
       "Unemployed                  22\n",
       "Student                     18\n",
       "Businessman                 10\n",
       "Maternity leave              5\n",
       "Name: NAME_INCOME_TYPE, dtype: int64"
      ]
     },
     "execution_count": 47,
     "metadata": {},
     "output_type": "execute_result"
    }
   ],
   "source": [
    "application_df.NAME_INCOME_TYPE.value_counts()"
   ]
  },
  {
   "cell_type": "code",
   "execution_count": 49,
   "id": "96859edf",
   "metadata": {},
   "outputs": [],
   "source": [
    "##Most of the applicants are working.\n",
    "##Applicants on Maternity Leave and Unemployed has highest percentage of Defaulter"
   ]
  },
  {
   "cell_type": "markdown",
   "id": "b574271e",
   "metadata": {},
   "source": [
    "OCCUPATION TYPE"
   ]
  },
  {
   "cell_type": "code",
   "execution_count": 50,
   "id": "03376cbb",
   "metadata": {},
   "outputs": [
    {
     "data": {
      "text/plain": [
       "Laborers                 55186\n",
       "Sales staff              32102\n",
       "Core staff               27570\n",
       "Managers                 21370\n",
       "Drivers                  18603\n",
       "High skill tech staff    11380\n",
       "Accountants               9812\n",
       "Medicine staff            8537\n",
       "Security staff            6721\n",
       "Cooking staff             5946\n",
       "Cleaning staff            4653\n",
       "Private service staff     2652\n",
       "Low-skill Laborers        2093\n",
       "Waiters/barmen staff      1348\n",
       "Secretaries               1305\n",
       "Realty agents              751\n",
       "HR staff                   563\n",
       "IT staff                   526\n",
       "Name: OCCUPATION_TYPE, dtype: int64"
      ]
     },
     "execution_count": 50,
     "metadata": {},
     "output_type": "execute_result"
    }
   ],
   "source": [
    "application_df['OCCUPATION_TYPE'].value_counts()"
   ]
  },
  {
   "cell_type": "code",
   "execution_count": 51,
   "id": "3e043dd6",
   "metadata": {},
   "outputs": [],
   "source": [
    "application_df['OCCUPATION_TYPE'].fillna(\"NA\", inplace=True) ##filling empty value with NA"
   ]
  },
  {
   "cell_type": "code",
   "execution_count": 52,
   "id": "db15be61",
   "metadata": {},
   "outputs": [
    {
     "data": {
      "text/html": [
       "<div>\n",
       "<style scoped>\n",
       "    .dataframe tbody tr th:only-of-type {\n",
       "        vertical-align: middle;\n",
       "    }\n",
       "\n",
       "    .dataframe tbody tr th {\n",
       "        vertical-align: top;\n",
       "    }\n",
       "\n",
       "    .dataframe thead th {\n",
       "        text-align: right;\n",
       "    }\n",
       "</style>\n",
       "<table border=\"1\" class=\"dataframe\">\n",
       "  <thead>\n",
       "    <tr style=\"text-align: right;\">\n",
       "      <th></th>\n",
       "      <th>Value</th>\n",
       "      <th>Percentage of Defaulter</th>\n",
       "    </tr>\n",
       "  </thead>\n",
       "  <tbody>\n",
       "    <tr>\n",
       "      <th>14</th>\n",
       "      <td>Low-skill Laborers</td>\n",
       "      <td>17.152413</td>\n",
       "    </tr>\n",
       "    <tr>\n",
       "      <th>5</th>\n",
       "      <td>Drivers</td>\n",
       "      <td>11.32613</td>\n",
       "    </tr>\n",
       "    <tr>\n",
       "      <th>13</th>\n",
       "      <td>Waiters/barmen staff</td>\n",
       "      <td>11.275964</td>\n",
       "    </tr>\n",
       "    <tr>\n",
       "      <th>11</th>\n",
       "      <td>Security staff</td>\n",
       "      <td>10.742449</td>\n",
       "    </tr>\n",
       "    <tr>\n",
       "      <th>0</th>\n",
       "      <td>Laborers</td>\n",
       "      <td>10.57877</td>\n",
       "    </tr>\n",
       "    <tr>\n",
       "      <th>8</th>\n",
       "      <td>Cooking staff</td>\n",
       "      <td>10.443996</td>\n",
       "    </tr>\n",
       "    <tr>\n",
       "      <th>6</th>\n",
       "      <td>Sales staff</td>\n",
       "      <td>9.631799</td>\n",
       "    </tr>\n",
       "    <tr>\n",
       "      <th>7</th>\n",
       "      <td>Cleaning staff</td>\n",
       "      <td>9.606705</td>\n",
       "    </tr>\n",
       "    <tr>\n",
       "      <th>15</th>\n",
       "      <td>Realty agents</td>\n",
       "      <td>7.856192</td>\n",
       "    </tr>\n",
       "    <tr>\n",
       "      <th>16</th>\n",
       "      <td>Secretaries</td>\n",
       "      <td>7.049808</td>\n",
       "    </tr>\n",
       "    <tr>\n",
       "      <th>10</th>\n",
       "      <td>Medicine staff</td>\n",
       "      <td>6.700246</td>\n",
       "    </tr>\n",
       "    <tr>\n",
       "      <th>9</th>\n",
       "      <td>Private service staff</td>\n",
       "      <td>6.598793</td>\n",
       "    </tr>\n",
       "    <tr>\n",
       "      <th>4</th>\n",
       "      <td>NA</td>\n",
       "      <td>6.513056</td>\n",
       "    </tr>\n",
       "    <tr>\n",
       "      <th>17</th>\n",
       "      <td>IT staff</td>\n",
       "      <td>6.463878</td>\n",
       "    </tr>\n",
       "    <tr>\n",
       "      <th>18</th>\n",
       "      <td>HR staff</td>\n",
       "      <td>6.394316</td>\n",
       "    </tr>\n",
       "    <tr>\n",
       "      <th>1</th>\n",
       "      <td>Core staff</td>\n",
       "      <td>6.303954</td>\n",
       "    </tr>\n",
       "    <tr>\n",
       "      <th>3</th>\n",
       "      <td>Managers</td>\n",
       "      <td>6.214319</td>\n",
       "    </tr>\n",
       "    <tr>\n",
       "      <th>12</th>\n",
       "      <td>High skill tech staff</td>\n",
       "      <td>6.15993</td>\n",
       "    </tr>\n",
       "    <tr>\n",
       "      <th>2</th>\n",
       "      <td>Accountants</td>\n",
       "      <td>4.830819</td>\n",
       "    </tr>\n",
       "  </tbody>\n",
       "</table>\n",
       "</div>"
      ],
      "text/plain": [
       "                    Value Percentage of Defaulter\n",
       "14     Low-skill Laborers               17.152413\n",
       "5                 Drivers                11.32613\n",
       "13   Waiters/barmen staff               11.275964\n",
       "11         Security staff               10.742449\n",
       "0                Laborers                10.57877\n",
       "8           Cooking staff               10.443996\n",
       "6             Sales staff                9.631799\n",
       "7          Cleaning staff                9.606705\n",
       "15          Realty agents                7.856192\n",
       "16            Secretaries                7.049808\n",
       "10         Medicine staff                6.700246\n",
       "9   Private service staff                6.598793\n",
       "4                      NA                6.513056\n",
       "17               IT staff                6.463878\n",
       "18               HR staff                6.394316\n",
       "1              Core staff                6.303954\n",
       "3                Managers                6.214319\n",
       "12  High skill tech staff                 6.15993\n",
       "2             Accountants                4.830819"
      ]
     },
     "execution_count": 52,
     "metadata": {},
     "output_type": "execute_result"
    }
   ],
   "source": [
    "valuewisedefaulter_percentage(application_df, 'OCCUPATION_TYPE')"
   ]
  },
  {
   "cell_type": "code",
   "execution_count": 53,
   "id": "e73c34bd",
   "metadata": {},
   "outputs": [],
   "source": [
    "##Low-skill labourers are most likely to be defaulter"
   ]
  },
  {
   "cell_type": "markdown",
   "id": "49eb21c7",
   "metadata": {},
   "source": [
    "# Gender"
   ]
  },
  {
   "cell_type": "code",
   "execution_count": 54,
   "id": "93d8897d",
   "metadata": {},
   "outputs": [
    {
     "data": {
      "image/png": "[encoded data removed]",
      "text/plain": [
       "<Figure size 432x288 with 1 Axes>"
      ]
     },
     "metadata": {
      "needs_background": "light"
     },
     "output_type": "display_data"
    }
   ],
   "source": [
    "sns.countplot(application_df['CODE_GENDER'], hue=application_df[\"TARGET\"])\n",
    "plt.show()"
   ]
  },
  {
   "cell_type": "code",
   "execution_count": 55,
   "id": "6096b329",
   "metadata": {},
   "outputs": [],
   "source": [
    "##most applicants are female"
   ]
  },
  {
   "cell_type": "code",
   "execution_count": 56,
   "id": "3c6c1410",
   "metadata": {},
   "outputs": [
    {
     "data": {
      "text/html": [
       "<div>\n",
       "<style scoped>\n",
       "    .dataframe tbody tr th:only-of-type {\n",
       "        vertical-align: middle;\n",
       "    }\n",
       "\n",
       "    .dataframe tbody tr th {\n",
       "        vertical-align: top;\n",
       "    }\n",
       "\n",
       "    .dataframe thead th {\n",
       "        text-align: right;\n",
       "    }\n",
       "</style>\n",
       "<table border=\"1\" class=\"dataframe\">\n",
       "  <thead>\n",
       "    <tr style=\"text-align: right;\">\n",
       "      <th></th>\n",
       "      <th>Age</th>\n",
       "    </tr>\n",
       "  </thead>\n",
       "  <tbody>\n",
       "    <tr>\n",
       "      <th>count</th>\n",
       "      <td>307509.000000</td>\n",
       "    </tr>\n",
       "    <tr>\n",
       "      <th>mean</th>\n",
       "      <td>43.405198</td>\n",
       "    </tr>\n",
       "    <tr>\n",
       "      <th>std</th>\n",
       "      <td>11.945793</td>\n",
       "    </tr>\n",
       "    <tr>\n",
       "      <th>min</th>\n",
       "      <td>20.000000</td>\n",
       "    </tr>\n",
       "    <tr>\n",
       "      <th>25%</th>\n",
       "      <td>33.000000</td>\n",
       "    </tr>\n",
       "    <tr>\n",
       "      <th>50%</th>\n",
       "      <td>43.000000</td>\n",
       "    </tr>\n",
       "    <tr>\n",
       "      <th>75%</th>\n",
       "      <td>53.000000</td>\n",
       "    </tr>\n",
       "    <tr>\n",
       "      <th>max</th>\n",
       "      <td>69.000000</td>\n",
       "    </tr>\n",
       "  </tbody>\n",
       "</table>\n",
       "</div>"
      ],
      "text/plain": [
       "                 Age\n",
       "count  307509.000000\n",
       "mean       43.405198\n",
       "std        11.945793\n",
       "min        20.000000\n",
       "25%        33.000000\n",
       "50%        43.000000\n",
       "75%        53.000000\n",
       "max        69.000000"
      ]
     },
     "execution_count": 56,
     "metadata": {},
     "output_type": "execute_result"
    }
   ],
   "source": [
    "##Have to convert column DAYS_BIRTH to Age\n",
    "application_df[\"Age\"] = application_df.DAYS_BIRTH//(-365.25) \n",
    "application_df[[\"Age\"]].describe()"
   ]
  },
  {
   "cell_type": "code",
   "execution_count": 57,
   "id": "44879e94",
   "metadata": {},
   "outputs": [],
   "source": [
    "##So now can drop column DAYS_BIRTH because we have Age column\n",
    "application_df.drop(\"DAYS_BIRTH\", inplace=True, axis=1)"
   ]
  },
  {
   "cell_type": "code",
   "execution_count": 59,
   "id": "d91fba44",
   "metadata": {},
   "outputs": [
    {
     "data": {
      "image/png": "[encoded data removed]",
      "text/plain": [
       "<Figure size 864x288 with 2 Axes>"
      ]
     },
     "metadata": {
      "needs_background": "light"
     },
     "output_type": "display_data"
    }
   ],
   "source": [
    "fig = plt.figure(figsize=(12,4))\n",
    "\n",
    "ax1 = fig.add_subplot(1, 2, 1, title=\"Non-defaulter\")\n",
    "ax2 = fig.add_subplot(1, 2, 2, title=\"Defaulter\")\n",
    "\n",
    "sns.kdeplot(application_df[application_df[\"TARGET\"] == 0]['Age'], ax=ax1)\n",
    "sns.kdeplot(application_df[application_df[\"TARGET\"] == 1]['Age'], ax=ax2)\n",
    "\n",
    "plt.show()"
   ]
  },
  {
   "cell_type": "code",
   "execution_count": 60,
   "id": "eacb9977",
   "metadata": {},
   "outputs": [],
   "source": [
    "##People that are 30years old have higher default rate and default cases are less for applicants more than 40 years old."
   ]
  },
  {
   "cell_type": "markdown",
   "id": "3cc79010",
   "metadata": {},
   "source": [
    "# INCOME AND ANNUITY COLUMN"
   ]
  },
  {
   "cell_type": "code",
   "execution_count": 61,
   "id": "b51dc509",
   "metadata": {},
   "outputs": [
    {
     "data": {
      "image/png": "[encoded data removed]",
      "text/plain": [
       "<Figure size 720x144 with 1 Axes>"
      ]
     },
     "metadata": {
      "needs_background": "light"
     },
     "output_type": "display_data"
    }
   ],
   "source": [
    "plt.figure(figsize=(10,2))\n",
    "sns.boxplot(application_df['AMT_INCOME_TOTAL'])\n",
    "plt.show()"
   ]
  },
  {
   "cell_type": "code",
   "execution_count": 62,
   "id": "fc263b5a",
   "metadata": {},
   "outputs": [
    {
     "data": {
      "image/png": "[encoded data removed]",
      "text/plain": [
       "<Figure size 720x144 with 1 Axes>"
      ]
     },
     "metadata": {
      "needs_background": "light"
     },
     "output_type": "display_data"
    }
   ],
   "source": [
    "plt.figure(figsize=(10,2))\n",
    "sns.boxplot(application_df['AMT_ANNUITY'])\n",
    "plt.show()"
   ]
  },
  {
   "cell_type": "code",
   "execution_count": 63,
   "id": "82f671df",
   "metadata": {},
   "outputs": [],
   "source": [
    "# Boxplot is showing the outliers for income and annuity, there are few entries having very large annuity and income than others.\n",
    "# Considering this entries will mislead the average income of the entire population and further analysis.\n",
    "# Excluding values outside 99 percentile for AMT_ANNUITY and AMT_INCOMRE_TOTAL\n",
    "\n",
    "application_df = application_df[application_df['AMT_ANNUITY'] < np.nanpercentile(application_df['AMT_ANNUITY'], 99)]\n",
    "application_df = application_df[application_df['AMT_INCOME_TOTAL'] < np.nanpercentile(application_df['AMT_INCOME_TOTAL'], 99)]"
   ]
  },
  {
   "cell_type": "code",
   "execution_count": 65,
   "id": "602de4dc",
   "metadata": {},
   "outputs": [
    {
     "data": {
      "image/png": "[encoded data removed]",
      "text/plain": [
       "<Figure size 864x360 with 2 Axes>"
      ]
     },
     "metadata": {
      "needs_background": "light"
     },
     "output_type": "display_data"
    }
   ],
   "source": [
    "##for income\n",
    "fig = plt.figure(figsize=(12,5))\n",
    "\n",
    "ax1 = fig.add_subplot(1, 2, 1, title=\"Non-defaulter\")\n",
    "ax2 = fig.add_subplot(1, 2, 2, title=\"Defaulter\")\n",
    "\n",
    "sns.kdeplot(application_df[application_df[\"TARGET\"] == 0]['AMT_INCOME_TOTAL'], ax=ax1)\n",
    "sns.kdeplot(application_df[application_df[\"TARGET\"] == 1]['AMT_INCOME_TOTAL'], ax=ax2)\n",
    "\n",
    "plt.show()"
   ]
  },
  {
   "cell_type": "code",
   "execution_count": 66,
   "id": "5623fa19",
   "metadata": {},
   "outputs": [
    {
     "data": {
      "image/png": "[encoded data removed]",
      "text/plain": [
       "<Figure size 864x360 with 2 Axes>"
      ]
     },
     "metadata": {
      "needs_background": "light"
     },
     "output_type": "display_data"
    }
   ],
   "source": [
    "##for annuity\n",
    "fig = plt.figure(figsize=(12,5))\n",
    "\n",
    "ax1 = fig.add_subplot(1, 2, 1, title=\"Non-defaulter\")\n",
    "ax2 = fig.add_subplot(1, 2, 2, title=\"Defaulter\")\n",
    "\n",
    "sns.kdeplot(application_df[application_df[\"TARGET\"] == 0]['AMT_ANNUITY'], ax=ax1)\n",
    "sns.kdeplot(application_df[application_df[\"TARGET\"] == 1]['AMT_ANNUITY'], ax=ax2)\n",
    "\n",
    "plt.show()"
   ]
  },
  {
   "cell_type": "code",
   "execution_count": 67,
   "id": "34bc1aa4",
   "metadata": {},
   "outputs": [],
   "source": [
    "##in annuity for defaulter and non-defaulter data is all most similar unlike income section"
   ]
  },
  {
   "cell_type": "code",
   "execution_count": null,
   "id": "becb0f90",
   "metadata": {},
   "outputs": [],
   "source": []
  }
 ],
 "metadata": {
  "kernelspec": {
   "display_name": "Python 3 (ipykernel)",
   "language": "python",
   "name": "python3"
  },
  "language_info": {
   "codemirror_mode": {
    "name": "ipython",
    "version": 3
   },
   "file_extension": ".py",
   "mimetype": "text/x-python",
   "name": "python",
   "nbconvert_exporter": "python",
   "pygments_lexer": "ipython3",
   "version": "3.9.12"
  }
 },
 "nbformat": 4,
 "nbformat_minor": 5
}
